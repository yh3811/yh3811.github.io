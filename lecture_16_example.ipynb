{
 "cells": [
  {
   "cell_type": "markdown",
   "metadata": {},
   "source": [
    "# Lecture 16 Example\n"
   ]
  },
  {
   "cell_type": "markdown",
   "metadata": {
    "editable": true,
    "id": "Omm4n3FmPHlF",
    "slideshow": {
     "slide_type": "slide"
    },
    "tags": []
   },
   "source": [
    "# Lab 8\n",
    "\n",
    "You'll be given a bunch of instructions without (fully) understanding what they do yet. That's ok. We get more into these topics in [Lecture 17](https://computing-in-context.afeld.me/lecture_17.html#version-control) and [Advanced Computing for Policy](https://github.com/advanced-computing/course-materials/blob/main/README.md).\n"
   ]
  },
  {
   "cell_type": "markdown",
   "metadata": {
    "editable": true,
    "slideshow": {
     "slide_type": "subslide"
    },
    "tags": []
   },
   "source": [
    "- The instructions are very specific, follow them closely.\n",
    "- Whenever you're told to create a file, it should be in the \"root\" of your repository (the `[username].github.io` folder).\n"
   ]
  },
  {
   "cell_type": "markdown",
   "metadata": {
    "editable": true,
    "slideshow": {
     "slide_type": "slide"
    },
    "tags": []
   },
   "source": [
    "## Git\n",
    "\n",
    "### Git and repository setup\n",
    "\n",
    "1. Ensure you've done [the setup](https://computing-in-context.afeld.me/week_8.html#one-time-setup).\n",
    "1. Open your `[username].github.io` folder in VSCode.\n",
    "1. [Open the terminal.](https://code.visualstudio.com/docs/terminal/getting-started)\n",
    "1. Set global [name](https://docs.github.com/en/get-started/getting-started-with-git/setting-your-username-in-git) and [email](https://docs.github.com/en/account-and-profile/setting-up-and-managing-your-personal-account-on-github/managing-email-preferences/setting-your-commit-email-address#setting-your-commit-email-address-in-git) in Git. _\\[once per computer\\]_\n",
    "   - Your name and email can be set to whatever.\n",
    "1. In sidebar, click [Source Control](https://code.visualstudio.com/docs/sourcecontrol/overview).\n",
    "1. [`Initialize Repository`](https://code.visualstudio.com/docs/sourcecontrol/overview#_initialize-a-repository) _\\[once per repo\\]_\n",
    "1. You should see a bunch of files under `Changes`.\n"
   ]
  },
  {
   "cell_type": "markdown",
   "metadata": {
    "editable": true,
    "slideshow": {
     "slide_type": "subslide"
    },
    "tags": []
   },
   "source": [
    "### [gitignore](https://docs.github.com/en/get-started/git-basics/ignoring-files#configuring-ignored-files-for-a-single-repository)\n",
    "\n",
    "1. Create a `.gitignore` file containing the following:\n",
    "\n",
    "   ```\n",
    "   .DS_Store\n",
    "   .ipynb_checkpoints/\n",
    "   _build/\n",
    "\n",
    "   # make sure Labs aren't included\n",
    "   Lab*.ipynb\n",
    "   lab*.ipynb\n",
    "\n",
    "   # virtual environments\n",
    "   .venv/\n",
    "   myenv/\n",
    "   ```\n",
    "\n",
    "1. You should now see only the following under `Changes`:\n",
    "   - `.gitignore`\n",
    "   - `lecture_16_example.ipynb`\n",
    "   - `requirements.txt`\n"
   ]
  },
  {
   "cell_type": "markdown",
   "metadata": {
    "editable": true,
    "slideshow": {
     "slide_type": "subslide"
    },
    "tags": []
   },
   "source": [
    "### [Commit](https://code.visualstudio.com/docs/sourcecontrol/overview#_commit)\n",
    "\n",
    "- Use a meaningful commit message, like \"adding example notebook and gitignore\".\n",
    "- If it asks about \"There are no staged changes\", click \"Always\".\n"
   ]
  },
  {
   "cell_type": "markdown",
   "metadata": {
    "editable": true,
    "slideshow": {
     "slide_type": "subslide"
    },
    "tags": []
   },
   "source": [
    "### Make changes\n",
    "\n",
    "1. In `lecture_16_example.ipynb`, add a Markdown cell at the top with a [heading (level 1)](https://www.markdownguide.org/basic-syntax/#headings).\n",
    "\n",
    "   ```md\n",
    "   # Lecture 16 Example\n",
    "   ```\n",
    "\n",
    "1. Commit.\n",
    "1. Your [Source Control Graph](https://code.visualstudio.com/docs/sourcecontrol/overview#_source-control-graph) (a.k.a. your Git history) should then look something like this:\n",
    "\n",
    "   ![Git history](img/git_history.png)\n"
   ]
  },
  {
   "cell_type": "markdown",
   "metadata": {
    "editable": true,
    "slideshow": {
     "slide_type": "slide"
    },
    "tags": []
   },
   "source": [
    "## GitHub\n",
    "\n",
    "If you miss a step, don't worry - it's possible to do them out of order. Ask for help if you need.\n",
    "\n",
    "1. Click [`Publish Branch`](https://code.visualstudio.com/docs/sourcecontrol/intro-to-git#_using-branches).\n",
    "1. [Allow signing in with GitHub](https://code.visualstudio.com/docs/sourcecontrol/github#_authenticating-with-an-existing-repository), if prompted.\n",
    "1. Click `Publish to GitHub public repository`.\n",
    "   - [Public vs. private](https://docs.github.com/en/repositories/creating-and-managing-repositories/about-repositories#about-repository-visibility)\n",
    "1. [Have VSCode periodically fetch](https://code.visualstudio.com/docs/sourcecontrol/overview#_remotes), if asked.\n",
    "1. Visit the repository on GitHub.\n",
    "   1. Click into the files.\n"
   ]
  },
  {
   "cell_type": "markdown",
   "metadata": {
    "editable": true,
    "slideshow": {
     "slide_type": "subslide"
    },
    "tags": []
   },
   "source": [
    "### Make changes\n",
    "\n",
    "1. In VSCode, add an `index.md` file with the following. (You can expand it later.)\n",
    "\n",
    "   ```md\n",
    "   # [Your name]'s Portfolio\n",
    "\n",
    "   Welcome! Work in progress.\n",
    "   ```\n",
    "\n",
    "1. Commit.\n",
    "1. [Push (a.k.a. \"sync\")](https://code.visualstudio.com/docs/sourcecontrol/overview#_remotes) the change to GitHub.\n"
   ]
  },
  {
   "cell_type": "markdown",
   "metadata": {
    "editable": true,
    "slideshow": {
     "slide_type": "subslide"
    },
    "tags": []
   },
   "source": [
    "### View\n",
    "\n",
    "Open the repository on GitHub, which should look something like this:\n",
    "\n",
    "![repository file list](img/repo_initial.png)\n"
   ]
  },
  {
   "cell_type": "markdown",
   "metadata": {
    "editable": true,
    "slideshow": {
     "slide_type": "slide"
    },
    "tags": []
   },
   "source": [
    "## [JupyterBook](https://jupyterbook.org/)\n",
    "\n",
    "- [Static website builder](https://jupyterbook.org/en/stable/publish/web.html)\n",
    "- Used to build the [course site](https://computing-in-context.afeld.me/)\n"
   ]
  },
  {
   "cell_type": "markdown",
   "metadata": {
    "editable": true,
    "slideshow": {
     "slide_type": "subslide"
    },
    "tags": []
   },
   "source": [
    "### Install\n",
    "\n",
    "Add this to your `requirements.txt`:\n",
    "\n",
    "```\n",
    "jupyter-book==1.*\n",
    "```\n",
    "\n",
    "then [install the packages](https://computing-in-context.afeld.me/notebooks.html#installing-packages).\n",
    "\n",
    "_The install might take a while; you can continue up until [building the site](#build-the-site) in the meantime._\n"
   ]
  },
  {
   "cell_type": "markdown",
   "metadata": {
    "editable": true,
    "slideshow": {
     "slide_type": "subslide"
    },
    "tags": []
   },
   "source": [
    "### [Config](https://jupyterbook.org/en/stable/customize/config.html)\n",
    "\n",
    "Using VSCode, create a `_config.yml` file containing the following:\n",
    "\n",
    "```yaml\n",
    "# https://jupyterbook.org/customize/config.html\n",
    "\n",
    "title: \"NAME's Portfolio\"\n",
    "author: NAME\n",
    "\n",
    "# https://jupyterbook.org/en/stable/structure/configure.html#disable-building-files-that-arent-in-the-table-of-contents\n",
    "only_build_toc_files: true\n",
    "exclude_patterns:\n",
    "  - .github/*\n",
    "  - .pytest_cache/*\n",
    "  - .venv/*\n",
    "\n",
    "execute:\n",
    "  execute_notebooks: \"off\"\n",
    "\n",
    "sphinx:\n",
    "  config:\n",
    "    # https://myst-parser.readthedocs.io/en/latest/syntax/cross-referencing.html#implicit-targets\n",
    "    myst_heading_anchors: 4\n",
    "    # https://jupyterbook.org/en/stable/interactive/interactive.html#plotly\n",
    "    html_js_files:\n",
    "      - https://cdnjs.cloudflare.com/ajax/libs/require.js/2.3.7/require.min.js\n",
    "    suppress_warnings: [\"mystnb.unknown_mime_type\"]\n",
    "```\n",
    "\n",
    "Replace the `NAME` with your name. [More about YAML](https://www.cloudbees.com/blog/yaml-tutorial-everything-you-need-get-started), which rhymes with \"mammal\".\n"
   ]
  },
  {
   "cell_type": "markdown",
   "metadata": {
    "editable": true,
    "slideshow": {
     "slide_type": "subslide"
    },
    "tags": []
   },
   "source": [
    "### [Table of contents](https://jupyterbook.org/customize/toc.html)\n",
    "\n",
    "Create a `_toc.yml` containing the following:\n",
    "\n",
    "```yaml\n",
    "format: jb-book\n",
    "root: index\n",
    "chapters:\n",
    "  - file: lecture_16_example\n",
    "```\n"
   ]
  },
  {
   "cell_type": "markdown",
   "metadata": {
    "editable": true,
    "slideshow": {
     "slide_type": "subslide"
    },
    "tags": []
   },
   "source": [
    "### [Build the site](https://jupyterbook.org/en/stable/start/build.html#build-your-books-html)\n",
    "\n",
    "[Open the integrated terminal](https://code.visualstudio.com/docs/terminal/getting-started) and run:\n",
    "\n",
    "```sh\n",
    "jupyter-book build --all .\n",
    "```\n",
    "\n",
    "This converted your notebooks to HTML.\n"
   ]
  },
  {
   "cell_type": "markdown",
   "metadata": {
    "editable": true,
    "slideshow": {
     "slide_type": "subslide"
    },
    "tags": []
   },
   "source": [
    "#### Troubleshooting\n",
    "\n",
    "If you get an error like `jupyter-book: command not found`:\n",
    "\n",
    "1. [Activate the environment.](https://computing-in-context.afeld.me/notebooks.html#activate-the-environment)\n",
    "1. Double-check you've done [the install](#install).\n"
   ]
  },
  {
   "cell_type": "markdown",
   "metadata": {
    "editable": true,
    "slideshow": {
     "slide_type": "subslide"
    },
    "tags": []
   },
   "source": [
    "### View the site (locally)\n",
    "\n",
    "1. It will output \"Your book's HTML pages are here … paste this line directly into your browser bar\".\n",
    "1. Copy that [`file://` URL](https://en.wikipedia.org/wiki/File_URI_scheme) into your web browser.\n",
    "1. You should see your JupterBook site.\n",
    "\n",
    "   ![JupyterBook](img/book_local.png)\n"
   ]
  },
  {
   "cell_type": "markdown",
   "metadata": {
    "editable": true,
    "slideshow": {
     "slide_type": "subslide"
    },
    "tags": []
   },
   "source": [
    "### Push to GitHub\n",
    "\n",
    "1. [View the diff](https://code.visualstudio.com/docs/sourcecontrol/overview#_viewing-diffs)\n",
    "1. Commit\n",
    "1. Push\n",
    "1. The GitHub repository should then look like this:\n",
    "\n",
    "   ![repository with JupyterBook files](img/repo_book.png)\n"
   ]
  },
  {
   "cell_type": "markdown",
   "metadata": {
    "slideshow": {
     "slide_type": "slide"
    }
   },
   "source": [
    "## Deploy the site\n",
    "\n",
    "[Deploy to GitHub pages.](https://jupyterbook.org/en/stable/publish/gh-pages.html)\n"
   ]
  },
  {
   "cell_type": "markdown",
   "metadata": {
    "editable": true,
    "slideshow": {
     "slide_type": "subslide"
    },
    "tags": []
   },
   "source": [
    "Check the site: `https://[username].github.io`"
   ]
  },
  {
   "cell_type": "markdown",
   "metadata": {
    "editable": true,
    "slideshow": {
     "slide_type": ""
    },
    "tags": []
   },
   "source": [
    "---\n",
    "\n",
    "[Submit.](https://computing-in-context.afeld.me/notebooks.html#submission)\n"
   ]
  }
 ],
 "metadata": {
  "celltoolbar": "Slideshow",
  "kernelspec": {
   "display_name": "Python 3 (ipykernel)",
   "language": "python",
   "name": "python3"
  },
  "language_info": {
   "codemirror_mode": {
    "name": "ipython",
    "version": 3
   },
   "file_extension": ".py",
   "mimetype": "text/x-python",
   "name": "python",
   "nbconvert_exporter": "python",
   "pygments_lexer": "ipython3",
   "version": "3.14.0"
  },
  "rise": {
   "scroll": true
  }
 },
 "nbformat": 4,
 "nbformat_minor": 4
}
